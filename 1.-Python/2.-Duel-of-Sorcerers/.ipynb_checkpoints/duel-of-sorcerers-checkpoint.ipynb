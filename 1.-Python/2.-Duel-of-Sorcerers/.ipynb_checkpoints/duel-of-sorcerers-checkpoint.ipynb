{
 "cells": [
  {
   "cell_type": "markdown",
   "metadata": {},
   "source": [
    "<img src=\"https://bit.ly/2VnXWr2\" width=\"100\" align=\"left\">"
   ]
  },
  {
   "cell_type": "markdown",
   "metadata": {},
   "source": [
    "# Duel of Sorcerers\n",
    "You are witnessing an epic battle between two powerful sorcerers: Gandalf and Saruman. Each sorcerer has 10 spells of variable power in their mind and they are going to throw them one after the other. The winner of the duel will be the one who wins more of those clashes between spells. Spells are represented as a list of 10 integers whose value equals the power of the spell.\n",
    "```\n",
    "gandalf = [10, 11, 13, 30, 22, 11, 10, 33, 22, 22]\n",
    "saruman = [23, 66, 12, 43, 12, 10, 44, 23, 12, 17]\n",
    "```\n",
    "For example:\n",
    "- The first clash is won by Saruman: 10 against 23.\n",
    "- The second clash is won by Saruman: 11 against 66.\n",
    "- ...\n",
    "\n",
    "You will create two variables, one for each sorcerer, where the sum of clashes won will be stored. Depending on which variable is greater at the end of the duel, you will show one of the following three results on the screen:\n",
    "* Gandalf wins\n",
    "* Saruman wins\n",
    "* Tie\n",
    "\n",
    "<img src=\"images/content_lightning_bolt_big.jpg\" width=\"400\">"
   ]
  },
  {
   "cell_type": "markdown",
   "metadata": {},
   "source": [
    "## Tools\n",
    "You don't necessarily need to use all the tools. Maybe you opt to use some of them or completely different ones, they are given to help you shape the exercise. Programming exercises can be solved in many different ways.\n",
    "\n",
    "1. Data structures: **lists, dictionaries**\n",
    "2. Loop: **for loop**\n",
    "3. Conditional statements: **if-elif-else**\n",
    "4. Functions: **range(), len(), print()**\n",
    "\n",
    "## Tasks\n",
    "\n",
    "#### 1. Create two variables called `gandalf` and `saruman` and assign them the spell power lists. Create a variable called `spells` to store the number of spells that the sorcerers cast. "
   ]
  },
  {
   "cell_type": "code",
   "execution_count": 1,
   "metadata": {},
   "outputs": [],
   "source": [
    "gandalf=[10, 11, 13, 30, 22, 11, 10, 33, 22, 22]\n",
    "saruman = [23, 66, 12, 43, 12, 10, 44, 23, 12, 17]\n",
    "\n",
    "spells=0"
   ]
  },
  {
   "cell_type": "markdown",
   "metadata": {},
   "source": [
    "#### 2. Create two variables called `gandalf_wins` and `saruman_wins`. Set both of them to 0. \n",
    "You will use these variables to count the number of clashes each sorcerer wins. "
   ]
  },
  {
   "cell_type": "code",
   "execution_count": 2,
   "metadata": {},
   "outputs": [],
   "source": [
    "gandalf_wins=0\n",
    "saruman_wins=0"
   ]
  },
  {
   "cell_type": "markdown",
   "metadata": {},
   "source": [
    "#### 3. Using the lists of spells of both sorcerers, update variables `gandalf_wins` and `saruman_wins` to count the number of times each sorcerer wins a clash. "
   ]
  },
  {
   "cell_type": "code",
   "execution_count": 3,
   "metadata": {},
   "outputs": [
    {
     "name": "stdout",
     "output_type": "stream",
     "text": [
      "Saruman ( 23 ) vs Gandalf ( 10 )\n",
      "- Spells cast: 1\n",
      "- Saruman score: 1\n",
      "- Gandalf score: 0\n",
      "Saruman ( 66 ) vs Gandalf ( 11 )\n",
      "- Spells cast: 2\n",
      "- Saruman score: 2\n",
      "- Gandalf score: 0\n",
      "Saruman ( 12 ) vs Gandalf ( 13 )\n",
      "- Spells cast: 3\n",
      "- Saruman score: 2\n",
      "- Gandalf score: 1\n",
      "Saruman ( 43 ) vs Gandalf ( 30 )\n",
      "- Spells cast: 4\n",
      "- Saruman score: 3\n",
      "- Gandalf score: 1\n",
      "Saruman ( 12 ) vs Gandalf ( 22 )\n",
      "- Spells cast: 5\n",
      "- Saruman score: 3\n",
      "- Gandalf score: 2\n",
      "Saruman ( 10 ) vs Gandalf ( 11 )\n",
      "- Spells cast: 6\n",
      "- Saruman score: 3\n",
      "- Gandalf score: 3\n",
      "Saruman ( 44 ) vs Gandalf ( 10 )\n",
      "- Spells cast: 7\n",
      "- Saruman score: 4\n",
      "- Gandalf score: 3\n",
      "Saruman ( 23 ) vs Gandalf ( 33 )\n",
      "- Spells cast: 8\n",
      "- Saruman score: 4\n",
      "- Gandalf score: 4\n",
      "Saruman ( 12 ) vs Gandalf ( 22 )\n",
      "- Spells cast: 9\n",
      "- Saruman score: 4\n",
      "- Gandalf score: 5\n",
      "Saruman ( 17 ) vs Gandalf ( 22 )\n",
      "- Spells cast: 10\n",
      "- Saruman score: 4\n",
      "- Gandalf score: 6\n"
     ]
    }
   ],
   "source": [
    "for spell in gandalf:\n",
    "    print(\"Saruman (\", saruman[spells],\")\", \"vs Gandalf (\", spell,\")\")\n",
    "    if spell<saruman[spells]:\n",
    "        saruman_wins+=1\n",
    "    else:\n",
    "        gandalf_wins+=1\n",
    "    spells+=1\n",
    "    print(\"- Spells cast:\", spells)\n",
    "    print(\"- Saruman score:\", saruman_wins)\n",
    "    print(\"- Gandalf score:\", gandalf_wins)\n",
    "   "
   ]
  },
  {
   "cell_type": "markdown",
   "metadata": {},
   "source": [
    "#### 4. Who won the battle?\n",
    "Print `Gandalf wins`, `Saruman wins` or `Tie` depending on the result. "
   ]
  },
  {
   "cell_type": "code",
   "execution_count": 4,
   "metadata": {},
   "outputs": [
    {
     "name": "stdout",
     "output_type": "stream",
     "text": [
      "Gandalf wins\n"
     ]
    }
   ],
   "source": [
    "if saruman_wins>gandalf_wins:\n",
    "    print(\"Saruman wins\")\n",
    "elif saruman_wins<gandalf_wins:\n",
    "    print(\"Gandalf wins\")\n",
    "else:\n",
    "    print(\"Tie\")"
   ]
  },
  {
   "cell_type": "markdown",
   "metadata": {},
   "source": [
    "## Bonus\n",
    "\n",
    "In this bonus challenge, you'll need to check the winner of the battle but this time, a sorcerer wins if he succeeds in winning 3 spell clashes in a row.\n",
    "\n",
    "Also, the spells now have a name and there is a dictionary that associates that name to a power.\n",
    "\n",
    "```\n",
    "POWER = {\n",
    "    'Fireball': 50, \n",
    "    'Lightning bolt': 40, \n",
    "    'Magic arrow': 10, \n",
    "    'Black Tentacles': 25, \n",
    "    'Contagion': 45\n",
    "}\n",
    "\n",
    "gandalf = ['Fireball', 'Lightning bolt', 'Lightning bolt', 'Magic arrow', 'Fireball', \n",
    "           'Magic arrow', 'Lightning bolt', 'Fireball', 'Fireball', 'Fireball']\n",
    "saruman = ['Contagion', 'Contagion', 'Black Tentacles', 'Fireball', 'Black Tentacles', \n",
    "           'Lightning bolt', 'Magic arrow', 'Contagion', 'Magic arrow', 'Magic arrow']\n",
    "```\n",
    "\n",
    "#### 1. Create variables `POWER`, `gandalf` and `saruman` as seen above. Create a variable called `spells` to store the number of spells that the sorcerers cast. "
   ]
  },
  {
   "cell_type": "code",
   "execution_count": 5,
   "metadata": {},
   "outputs": [],
   "source": [
    "POWER = {'Fireball': 50, 'Lightning bolt': 40, 'Magic arrow': 10, 'Black Tentacles': 25, 'Contagion': 45}\n",
    "gandalf = ['Fireball', 'Lightning bolt', 'Lightning bolt', 'Magic arrow', 'Fireball', 'Magic arrow', 'Lightning bolt', 'Fireball', 'Fireball', 'Fireball']\n",
    "saruman = ['Contagion', 'Contagion', 'Black Tentacles', 'Fireball', 'Black Tentacles', 'Lightning bolt', 'Magic arrow', 'Contagion', 'Magic arrow', 'Magic arrow']"
   ]
  },
  {
   "cell_type": "markdown",
   "metadata": {},
   "source": [
    "#### 2. Create two variables called `gandalf_wins` and `saruman_wins`. Set both of them to 0. "
   ]
  },
  {
   "cell_type": "code",
   "execution_count": 6,
   "metadata": {},
   "outputs": [],
   "source": [
    "gandalf_wins=0\n",
    "saruman_wins=0"
   ]
  },
  {
   "cell_type": "markdown",
   "metadata": {},
   "source": [
    "#### 3. Create two variables called `gandalf_power` and `saruman_power` to store the list of spell powers of each sorcerer."
   ]
  },
  {
   "cell_type": "code",
   "execution_count": 7,
   "metadata": {},
   "outputs": [
    {
     "name": "stdout",
     "output_type": "stream",
     "text": [
      "Gandalf: [50, 40, 40, 10, 50, 10, 40, 50, 50, 50]\n",
      "Saruman: [45, 45, 25, 50, 25, 40, 10, 45, 10, 10]\n"
     ]
    }
   ],
   "source": [
    "gandalf_power=[]\n",
    "saruman_power=[]\n",
    "\n",
    "for spell in gandalf:\n",
    "    gandalf_power.append(POWER[spell])\n",
    "    \n",
    "for spell in saruman:\n",
    "    saruman_power.append(POWER[spell])\n",
    "    \n",
    "print(\"Gandalf:\", gandalf_power)\n",
    "print(\"Saruman:\", saruman_power)"
   ]
  },
  {
   "cell_type": "markdown",
   "metadata": {},
   "source": [
    "#### 4. The battle starts! Using the variables you've created above, code the execution of spell clashes. Remember that a sorcerer wins if he succeeds in winning 3 spell clashes in a row. \n",
    "If a clash ends up in a tie, the counter of wins in a row is not restarted to 0. Remember to print who is the winner of the battle. "
   ]
  },
  {
   "cell_type": "code",
   "execution_count": 8,
   "metadata": {},
   "outputs": [
    {
     "name": "stdout",
     "output_type": "stream",
     "text": [
      "Saruman ( 45 ) vs Gandalf ( 50 )\n",
      "- Spells cast: 1\n",
      "- Saruman streak: 0\n",
      "- Gandalf streak: 1\n",
      "Saruman ( 45 ) vs Gandalf ( 40 )\n",
      "- Spells cast: 2\n",
      "- Saruman streak: 1\n",
      "- Gandalf streak: 0\n",
      "Saruman ( 25 ) vs Gandalf ( 40 )\n",
      "- Spells cast: 3\n",
      "- Saruman streak: 0\n",
      "- Gandalf streak: 1\n",
      "Saruman ( 50 ) vs Gandalf ( 10 )\n",
      "- Spells cast: 4\n",
      "- Saruman streak: 1\n",
      "- Gandalf streak: 0\n",
      "Saruman ( 25 ) vs Gandalf ( 50 )\n",
      "- Spells cast: 5\n",
      "- Saruman streak: 0\n",
      "- Gandalf streak: 1\n",
      "Saruman ( 40 ) vs Gandalf ( 10 )\n",
      "- Spells cast: 6\n",
      "- Saruman streak: 1\n",
      "- Gandalf streak: 0\n",
      "Saruman ( 10 ) vs Gandalf ( 40 )\n",
      "- Spells cast: 7\n",
      "- Saruman streak: 0\n",
      "- Gandalf streak: 1\n",
      "Saruman ( 45 ) vs Gandalf ( 50 )\n",
      "- Spells cast: 8\n",
      "- Saruman streak: 0\n",
      "- Gandalf streak: 2\n",
      "Saruman ( 10 ) vs Gandalf ( 50 )\n",
      "- Spells cast: 9\n",
      "- Saruman streak: 0\n",
      "- Gandalf streak: 3\n",
      "**I will draw you, Saruman, as poison is drawn from a wound! (Gandalf wins)**\n"
     ]
    }
   ],
   "source": [
    "saruman_wins=0\n",
    "gandalf_wins=0\n",
    "powers=0\n",
    "\n",
    "while (saruman_wins<3)&(gandalf_wins<3):\n",
    "    print(\"Saruman (\", saruman_power[powers],\")\", \"vs Gandalf (\", gandalf_power[powers],\")\")\n",
    "    if gandalf_power[powers]<saruman_power[powers]:\n",
    "        saruman_wins+=1\n",
    "        gandalf_wins=0\n",
    "    else:\n",
    "        gandalf_wins+=1\n",
    "        saruman_wins=0\n",
    "    powers+=1\n",
    "    print(\"- Spells cast:\", powers)\n",
    "    print(\"- Saruman streak:\", saruman_wins)\n",
    "    print(\"- Gandalf streak:\", gandalf_wins)\n",
    "    \n",
    "if saruman_wins>3:\n",
    "    print(\"**You have no power here, Gandalf the Grey! (Saruman wins)**\")\n",
    "else:\n",
    "    print(\"**I will draw you, Saruman, as poison is drawn from a wound! (Gandalf wins)**\")"
   ]
  },
  {
   "cell_type": "markdown",
   "metadata": {},
   "source": [
    "#### 5. Find the average spell power of Gandalf and Saruman. "
   ]
  },
  {
   "cell_type": "code",
   "execution_count": 9,
   "metadata": {},
   "outputs": [
    {
     "name": "stdout",
     "output_type": "stream",
     "text": [
      "Average spell power of Gandalf = 39.0\n",
      "Average spell power of Saruman = 30.5\n"
     ]
    }
   ],
   "source": [
    "mean_gandalf_power=sum(gandalf_power)/len(gandalf_power)\n",
    "mean_saruman_power=sum(saruman_power)/len(saruman_power)\n",
    "\n",
    "print(\"Average spell power of Gandalf =\", mean_gandalf_power)\n",
    "print(\"Average spell power of Saruman =\", mean_saruman_power)"
   ]
  },
  {
   "cell_type": "markdown",
   "metadata": {},
   "source": [
    "#### 6. Find the standard deviation of the spell power of Gandalf and Saruman. "
   ]
  },
  {
   "cell_type": "code",
   "execution_count": 10,
   "metadata": {},
   "outputs": [
    {
     "name": "stdout",
     "output_type": "stream",
     "text": [
      "Standard deviation of the spell power of Gandalf = 15.132745950421556\n",
      "Standard deviation of the spell power of Saruman = 15.56438241627338\n"
     ]
    }
   ],
   "source": [
    "gandalf_power_sq=[]\n",
    "var_gandalf_power=0\n",
    "std_gandalf_power=0\n",
    "for power in gandalf_power:\n",
    "    gandalf_power_sq.append((power-mean_gandalf_power)**2)\n",
    "    \n",
    "var_gandalf_power=sum(gandalf_power_sq)/len(gandalf_power)\n",
    "std_gandalf_power=var_gandalf_power**0.5\n",
    "\n",
    "saruman_power_sq=[]\n",
    "var_saruman_power=0\n",
    "std_saruman_power=0\n",
    "for power in saruman_power:\n",
    "    saruman_power_sq.append((power-mean_saruman_power)**2)\n",
    "    \n",
    "var_saruman_power=sum(saruman_power_sq)/len(saruman_power)\n",
    "std_saruman_power=var_saruman_power**(0.5)\n",
    "    \n",
    "print(\"Standard deviation of the spell power of Gandalf =\", std_gandalf_power)\n",
    "\n",
    "print(\"Standard deviation of the spell power of Saruman =\", std_saruman_power)"
   ]
  },
  {
   "cell_type": "code",
   "execution_count": null,
   "metadata": {},
   "outputs": [],
   "source": []
  }
 ],
 "metadata": {
  "kernelspec": {
   "display_name": "Python 3",
   "language": "python",
   "name": "python3"
  },
  "language_info": {
   "codemirror_mode": {
    "name": "ipython",
    "version": 3
   },
   "file_extension": ".py",
   "mimetype": "text/x-python",
   "name": "python",
   "nbconvert_exporter": "python",
   "pygments_lexer": "ipython3",
   "version": "3.8.8"
  }
 },
 "nbformat": 4,
 "nbformat_minor": 2
}
