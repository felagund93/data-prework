{
 "cells": [
  {
   "cell_type": "markdown",
   "metadata": {},
   "source": [
    "<img src=\"https://bit.ly/2VnXWr2\" width=\"100\" align=\"left\"/>"
   ]
  },
  {
   "cell_type": "markdown",
   "metadata": {},
   "source": [
    "# Robin Hood\n",
    "Robin Hood has entered a competition to win the archery contest in Sherwood. With his bow and arrows, he needs to shoot on a target and try to hit as close as possible to the center.\n",
    "\n",
    "![](images/arrows.jpg)\n",
    "\n",
    "## Context\n",
    "In this challenge, the landing position of arrows shot by archers in the competition will be represented using 2-dimensional coordinates. \n",
    "\n",
    "In the 2-dimensional space, a point can be defined by a pair of values that correspond to the horizontal coordinate (x) and the vertical coordinate (y). For example, in our case, an arrow that hits the center of the archery target will land in position (0, 0) on the coordinate axes. \n",
    "\n",
    "The space can be divided into 4 zones (quadrants): Q1, Q2, Q3, Q4. If a point is in Q1, both its x coordinate and y coordinate are positive. Any point with a null x or y coordinate is considered to not belong to any quadrant. \n",
    "\n",
    "If you want to know more about the cartesian coordinate system, you can check this [link](https://en.wikipedia.org/wiki/Cartesian_coordinate_system). \n",
    "\n",
    "## Tools\n",
    "You don't necessarily need to use all the tools. Maybe you opt to use some of them or completely different ones, they are given to help you shape the exercise. Programming exercises can be solved in many different ways.\n",
    "* Data structures: **lists, sets, tuples**\n",
    "* Conditional statements: **if-elif-else**\n",
    "* Loop: **while/for**\n",
    "* Minimum (optional sorting)\n",
    "\n",
    "## Tasks\n",
    "Robin Hood has hit the following points:"
   ]
  },
  {
   "cell_type": "code",
   "execution_count": 1,
   "metadata": {},
   "outputs": [],
   "source": [
    "points = [(4, 5), (-0, 2), (4, 7), (1, -3), (3, -2), (4, 5), (3, 2), (5, 7), (-5, 7), (2, 2), (-4, 5), (0, -2),\n",
    "          (-4, 7), (-1, 3), (-3, 2), (-4, -5), (-3, 2), (5, 7), (5, 7), (2, 2), (9, 9), (-8, -9)]"
   ]
  },
  {
   "cell_type": "markdown",
   "metadata": {},
   "source": [
    "#### 1. Robin Hood is famous for hitting an arrow with another arrow. Find the coordinates of the points where an arrow hits another arrow."
   ]
  },
  {
   "cell_type": "code",
   "execution_count": 2,
   "metadata": {},
   "outputs": [
    {
     "name": "stdout",
     "output_type": "stream",
     "text": [
      "An arrow hits another arrow in [(4, 5), (-3, 2), (5, 7), (2, 2)]\n"
     ]
    }
   ],
   "source": [
    "checked={}\n",
    "duplicates=[]\n",
    "for arrow in points:\n",
    "    if arrow not in checked:\n",
    "        checked[arrow]=1\n",
    "    else:\n",
    "        if checked[arrow]==1:\n",
    "            duplicates.append(arrow)\n",
    "            checked[arrow]+=1\n",
    "        \n",
    "print(\"An arrow hits another arrow in\", duplicates)"
   ]
  },
  {
   "cell_type": "markdown",
   "metadata": {},
   "source": [
    "#### 2. Calculate how many arrows have fallen in each quadrant. \n",
    "**Note**: the arrows that fall in the axis (x=0 or y=0) don't belong to any quadrant."
   ]
  },
  {
   "cell_type": "code",
   "execution_count": 3,
   "metadata": {},
   "outputs": [
    {
     "name": "stdout",
     "output_type": "stream",
     "text": [
      "Q1 = [(4, 5), (4, 7), (4, 5), (3, 2), (5, 7), (2, 2), (5, 7), (5, 7), (2, 2), (9, 9)]\n",
      "Q2 = [(-5, 7), (-4, 5), (-4, 7), (-1, 3), (-3, 2), (-3, 2)]\n",
      "Q3 = [(-4, -5), (-8, -9)]\n",
      "Q4 = [(1, -3), (3, -2)]\n",
      "No quadrant = [(0, 2), (0, -2)]\n",
      "Arrows in Q1 = 10\n",
      "Arrows in Q2 = 6\n",
      "Arrows in Q3 = 2\n",
      "Arrows in Q4 = 2\n",
      "Arrows in no quadrant = 2\n"
     ]
    }
   ],
   "source": [
    "q_1=[]\n",
    "q_2=[]\n",
    "q_3=[]\n",
    "q_4=[]\n",
    "no_quadrant=[]\n",
    "\n",
    "for arrow in points:\n",
    "    if (arrow[0]>0) & (arrow[1]>0):\n",
    "        q_1.append(arrow)\n",
    "    elif (arrow[0]<0) & (arrow[1]>0):\n",
    "        q_2.append(arrow)\n",
    "    elif (arrow[0]<0) & (arrow[1]<0):\n",
    "        q_3.append(arrow)\n",
    "    elif (arrow[0]>0) & (arrow[1]<0):\n",
    "        q_4.append(arrow)\n",
    "    else:\n",
    "        no_quadrant.append(arrow)\n",
    "\n",
    "print(\"Q1 =\", q_1)\n",
    "print(\"Q2 =\", q_2)\n",
    "print(\"Q3 =\", q_3)\n",
    "print(\"Q4 =\", q_4)\n",
    "print(\"No quadrant =\", no_quadrant)\n",
    "        \n",
    "print(\"Arrows in Q1 =\", len(q_1))\n",
    "print(\"Arrows in Q2 =\", len(q_2))\n",
    "print(\"Arrows in Q3 =\", len(q_3))\n",
    "print(\"Arrows in Q4 =\", len(q_4))\n",
    "print(\"Arrows in no quadrant =\", len(no_quadrant))"
   ]
  },
  {
   "cell_type": "markdown",
   "metadata": {},
   "source": [
    "#### 3. Find the point closest to the center. Calculate its distance to the center. \n",
    "Take into account that there might be more than one point at the minimum distance to the center.\n",
    "\n",
    "**Hint**: Use the Euclidean distance. You can find more information about it [here](https://en.wikipedia.org/wiki/Euclidean_distance).  \n",
    "**Hint**: Defining a function that calculates the distance to the center can help."
   ]
  },
  {
   "cell_type": "code",
   "execution_count": 4,
   "metadata": {},
   "outputs": [
    {
     "name": "stdout",
     "output_type": "stream",
     "text": [
      "Smallest distance to center = 2.0\n",
      "The closest points are: [(0, 2), (0, -2)]\n"
     ]
    }
   ],
   "source": [
    "def euc_distance_center(point):\n",
    "    import math\n",
    "    return math.sqrt(point[0]**2+point[1]**2)\n",
    "\n",
    "dist_center={}\n",
    "for arrow in points:\n",
    "    dist_center[arrow]=euc_distance_center(arrow)\n",
    "\n",
    "closest=min(dist_center.values())\n",
    "print(\"Smallest distance to center =\", closest)\n",
    "\n",
    "closest_points=[]\n",
    "for key,value in dist_center.items(): \n",
    "    if value == closest:\n",
    "        closest_points.append(key)\n",
    "\n",
    "print(\"The closest points are:\", closest_points)"
   ]
  },
  {
   "cell_type": "markdown",
   "metadata": {},
   "source": [
    "#### 4. If the archery target has a radius of 9, calculate the number of arrows that won't hit the target. \n",
    "**Hint**: Use the function created in step 3. "
   ]
  },
  {
   "cell_type": "code",
   "execution_count": 5,
   "metadata": {},
   "outputs": [
    {
     "name": "stdout",
     "output_type": "stream",
     "text": [
      "The following points won't hit the target: [(9, 9), (-8, -9)]\n"
     ]
    }
   ],
   "source": [
    "outside_points=[]\n",
    "for key,value in dist_center.items(): \n",
    "    if (value > 9):\n",
    "        outside_points.append(key)\n",
    "        \n",
    "print(\"The following points won't hit the target:\", outside_points)"
   ]
  },
  {
   "cell_type": "code",
   "execution_count": null,
   "metadata": {},
   "outputs": [],
   "source": []
  }
 ],
 "metadata": {
  "kernelspec": {
   "display_name": "Python 3",
   "language": "python",
   "name": "python3"
  },
  "language_info": {
   "codemirror_mode": {
    "name": "ipython",
    "version": 3
   },
   "file_extension": ".py",
   "mimetype": "text/x-python",
   "name": "python",
   "nbconvert_exporter": "python",
   "pygments_lexer": "ipython3",
   "version": "3.8.8"
  }
 },
 "nbformat": 4,
 "nbformat_minor": 2
}
