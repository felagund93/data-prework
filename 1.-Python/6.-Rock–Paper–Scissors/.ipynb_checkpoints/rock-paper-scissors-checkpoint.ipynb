{
 "cells": [
  {
   "cell_type": "markdown",
   "metadata": {},
   "source": [
    "<img src=\"https://bit.ly/2VnXWr2\" width=\"100\" align=\"left\">"
   ]
  },
  {
   "cell_type": "markdown",
   "metadata": {},
   "source": [
    "# Rock, Paper & Scissors\n",
    "\n",
    "Let's play the famous game against our computer. You can check the rules [here](https://en.wikipedia.org/wiki/Rock%E2%80%93paper%E2%80%93scissors). \n",
    "\n",
    "## Task\n",
    "Create a program that imitates the playability of the well known game of rock, paper, scissors. Follow the guidelines provided.\n",
    "\n",
    "## Tools\n",
    "1. Loop: **for/while**\n",
    "2. Functions: **input(), print()...**\n",
    "3. Conditional statements: **if, elif, else**\n",
    "4. Definition of functions. Modular programming\n",
    "5. Import modules\n",
    "\n",
    "**To solve this challenge, the use of functions is recommended.**\n",
    "\n",
    "#### 1. Import the choice function of the random module."
   ]
  },
  {
   "cell_type": "code",
   "execution_count": 1,
   "metadata": {},
   "outputs": [],
   "source": [
    "import random"
   ]
  },
  {
   "cell_type": "markdown",
   "metadata": {},
   "source": [
    "#### 2. Create a list that includes the 3 possible gesture options of the game: 'rock', 'paper' or 'scissors'. Store the list in a variable called `gestures`."
   ]
  },
  {
   "cell_type": "code",
   "execution_count": 2,
   "metadata": {},
   "outputs": [],
   "source": [
    "gestures=['rock', 'paper', 'scissors']"
   ]
  },
  {
   "cell_type": "markdown",
   "metadata": {},
   "source": [
    "#### 3. Create a variable called `n_rounds` to store the maximum number of rounds to play in a game. \n",
    "Remember that the number of rounds must be odd: 1, 3, 5, ..."
   ]
  },
  {
   "cell_type": "code",
   "execution_count": 9,
   "metadata": {},
   "outputs": [
    {
     "name": "stdout",
     "output_type": "stream",
     "text": [
      "Number of rounds?5\n"
     ]
    }
   ],
   "source": [
    "n_rounds=int(input('Number of rounds?'))"
   ]
  },
  {
   "cell_type": "markdown",
   "metadata": {},
   "source": [
    "#### 4. Create a variable called `rounds_to_win` to store the number of rounds that a player must win to win the game.\n",
    "**Hint**: the value stored in `rounds_to_win` depends on the value of `n_rounds`. "
   ]
  },
  {
   "cell_type": "code",
   "execution_count": 10,
   "metadata": {},
   "outputs": [
    {
     "name": "stdout",
     "output_type": "stream",
     "text": [
      "3\n"
     ]
    }
   ],
   "source": [
    "rounds_to_win=int(n_rounds/2)+1\n",
    "print(\"Rounds to win:\", rounds_to_win)"
   ]
  },
  {
   "cell_type": "markdown",
   "metadata": {},
   "source": [
    "#### 5. Create two variables to store the number of rounds that the computer and the player have won. Call these variables `cpu_score` and `player_score`."
   ]
  },
  {
   "cell_type": "code",
   "execution_count": 11,
   "metadata": {},
   "outputs": [],
   "source": [
    "cpu_score=0\n",
    "player_score=0"
   ]
  },
  {
   "cell_type": "markdown",
   "metadata": {},
   "source": [
    "#### 6. Define a function that randomly returns one of the 3 gesture options.\n",
    "You will use this function to simulate the gesture choice of the computer. "
   ]
  },
  {
   "cell_type": "code",
   "execution_count": 12,
   "metadata": {},
   "outputs": [],
   "source": [
    "def gesture_random():\n",
    "    return random.choice(gestures)\n",
    "\n",
    "machine =gesture_random()\n"
   ]
  },
  {
   "cell_type": "markdown",
   "metadata": {},
   "source": [
    "#### 7. Define a function that asks the player which is the gesture he or she wants to show: 'rock', 'paper' or 'scissors'.\n",
    "The player should only be allowed to choose one of the 3 gesture options. If the player's choice is not rock, paper or scissors, keep asking until it is."
   ]
  },
  {
   "cell_type": "code",
   "execution_count": 13,
   "metadata": {},
   "outputs": [
    {
     "name": "stdout",
     "output_type": "stream",
     "text": [
      "Rock, paper or scissors?rock\n"
     ]
    }
   ],
   "source": [
    "def gesture_player():\n",
    "    player=input(\"Rock, paper or scissors?\")\n",
    "    while player not in gestures:\n",
    "        player=input(\"I beg your pardon, but I asked 'rock, paper or scissors?'\")\n",
    "    return player\n",
    "\n",
    "human=gesture_player()"
   ]
  },
  {
   "cell_type": "markdown",
   "metadata": {},
   "source": [
    "#### 8. Define a function that checks who won a round. \n",
    "The function should return 0 if there is a tie, 1 if the computer wins and 2 if the player wins."
   ]
  },
  {
   "cell_type": "code",
   "execution_count": 14,
   "metadata": {},
   "outputs": [
    {
     "data": {
      "text/plain": [
       "2"
      ]
     },
     "execution_count": 14,
     "metadata": {},
     "output_type": "execute_result"
    }
   ],
   "source": [
    "def who_wins(machine, human):\n",
    "    if (machine=='rock')&(human=='paper'):\n",
    "        return 2\n",
    "    elif (machine=='rock')&(human=='scissors'):\n",
    "        return 1\n",
    "    elif (machine=='paper')&(human=='scissors'):\n",
    "        return 2\n",
    "    elif (machine=='paper')&(human=='rock'):\n",
    "        return 1\n",
    "    elif (machine=='scissors')&(human=='rock'):\n",
    "        return 2\n",
    "    elif (machine=='scissors')&(human=='paper'):\n",
    "        return 1\n",
    "    else:\n",
    "        return 0\n",
    "    \n",
    "who_wins(machine, human)"
   ]
  },
  {
   "cell_type": "markdown",
   "metadata": {},
   "source": [
    "#### 9. Define a function that prints the choice of the computer, the choice of the player and a message that announces who won the current round. \n",
    "You should also use this function to update the variables that count the number of rounds that the computer and the player have won. The score of the winner increases by one point. If there is a tie, the score does not increase."
   ]
  },
  {
   "cell_type": "code",
   "execution_count": 15,
   "metadata": {},
   "outputs": [
    {
     "name": "stdout",
     "output_type": "stream",
     "text": [
      "Choice of the computer is: scissors\n",
      "Choice of the player is: rock\n",
      "The human wins!\n"
     ]
    },
    {
     "data": {
      "text/plain": [
       "(0, 1)"
      ]
     },
     "execution_count": 15,
     "metadata": {},
     "output_type": "execute_result"
    }
   ],
   "source": [
    "cpu_score=0\n",
    "player_score=0\n",
    "def round_status(machine, human, cpu_score, player_score):\n",
    "    print(\"Choice of the computer is:\", machine)\n",
    "    print(\"Choice of the player is:\", human)\n",
    "    if who_wins(machine, human)==2:\n",
    "        player_score+=1\n",
    "        print(\"The human wins this round!\")\n",
    "    elif who_wins(machine, human)==1:\n",
    "        cpu_score+=1\n",
    "        print(\"The computer wins this round!\")\n",
    "    else:\n",
    "        print(\"This round is a tie!\")\n",
    "    return cpu_score, player_score\n",
    "    \n",
    "round_status(machine, human, cpu_score, player_score)"
   ]
  },
  {
   "cell_type": "markdown",
   "metadata": {},
   "source": [
    "#### 10. Now it's time to code the execution of the game using the functions and variables you defined above. \n",
    "\n",
    "First, create a loop structure that repeats while no player reaches the minimum score necessary to win and the number of rounds is less than the maximum number of rounds to play in a game.  \n",
    "\n",
    "Inside the loop, use the functions and variables above to create the execution of a round: ask for the player's choice, generate the random choice of the computer, show the round results, update the scores, etc. "
   ]
  },
  {
   "cell_type": "code",
   "execution_count": 24,
   "metadata": {},
   "outputs": [
    {
     "name": "stdout",
     "output_type": "stream",
     "text": [
      "Rock, paper or scissors?rock\n",
      "Choice of the computer is: rock\n",
      "Choice of the player is: rock\n",
      "It's a tie!\n",
      "Player 0 Compu 0\n",
      "Rock, paper or scissors?rock\n",
      "Choice of the computer is: paper\n",
      "Choice of the player is: rock\n",
      "The computer wins!\n",
      "Player 0 Compu 1\n",
      "Rock, paper or scissors?rock\n",
      "Choice of the computer is: rock\n",
      "Choice of the player is: rock\n",
      "It's a tie!\n",
      "Player 0 Compu 1\n",
      "Rock, paper or scissors?rock\n",
      "Choice of the computer is: rock\n",
      "Choice of the player is: rock\n",
      "It's a tie!\n",
      "Player 0 Compu 1\n",
      "Rock, paper or scissors?rock\n",
      "Choice of the computer is: paper\n",
      "Choice of the player is: rock\n",
      "The computer wins!\n",
      "Player 0 Compu 2\n"
     ]
    }
   ],
   "source": [
    "cpu_score=0\n",
    "player_score=0\n",
    "round_num=0\n",
    "\n",
    "#round_num>n_rounds\n",
    "#(player_score<rounds_to_win)&(cpu_score<rounds_to_win)\n",
    "\n",
    "while round_num<n_rounds:\n",
    "    human=gesture_player()\n",
    "    machine=gesture_random()\n",
    "    cpu_score, player_score = round_status(machine, human, cpu_score, player_score)\n",
    "    print(\"Player\", player_score, \"Compu\", cpu_score)\n",
    "    round_num+=1"
   ]
  },
  {
   "cell_type": "markdown",
   "metadata": {},
   "source": [
    "#### 11. Print the winner of the game based on who won more rounds.\n",
    "Remember that the game might be tied. "
   ]
  },
  {
   "cell_type": "code",
   "execution_count": 25,
   "metadata": {},
   "outputs": [
    {
     "name": "stdout",
     "output_type": "stream",
     "text": [
      "Game over, Computer wins!\n"
     ]
    }
   ],
   "source": [
    "if cpu_score>player_score:\n",
    "    print(\"Game over, Computer wins!\")\n",
    "elif cpu_score<player_score:\n",
    "    print(\"Player wins!\")\n",
    "else:\n",
    "    print(\"It's a draw!\")"
   ]
  },
  {
   "cell_type": "markdown",
   "metadata": {},
   "source": [
    "# Bonus: Rock, Paper, Scissors, Lizard & Spock\n",
    "![](images/rpsls.jpg)\n",
    "\n",
    "In this challenge, you need to improve the previous game by adding two new options. To know more about the rules of the improved version of rock, paper, scissors, check this [link](http://www.samkass.com/theories/RPSSL.html). \n",
    "\n",
    "In addition, you will also need to improve how the game interacts with the player: the number of rounds to play, which must be an odd number, will be requested to the user until a valid number is entered. Define a new function to make that request.\n",
    "\n",
    "**Hint**: Try to reuse the code that you already coded in the previous challenge. If your code is efficient, this bonus will only consist of simple modifications to the original game."
   ]
  },
  {
   "cell_type": "code",
   "execution_count": 31,
   "metadata": {},
   "outputs": [
    {
     "name": "stdout",
     "output_type": "stream",
     "text": [
      "Number of rounds?5\n",
      "Rounds to win: 3\n",
      "Rock, paper, scissors, lizard or spock?rok\n",
      "I beg your pardon, but this is a different game. I asked 'rock, paper, scissors, lizard or spock?'rock\n",
      "Rock, paper, scissors, lizard or spock?rock\n",
      "Choice of the computer is: lizard\n",
      "Choice of the player is: rock\n",
      "The human wins this round!\n",
      "Player 1 Compu 0\n",
      "Rock, paper, scissors, lizard or spock?paper\n",
      "Choice of the computer is: lizard\n",
      "Choice of the player is: paper\n",
      "The computer wins this round!\n",
      "Player 1 Compu 1\n",
      "Rock, paper, scissors, lizard or spock?scissors\n",
      "Choice of the computer is: lizard\n",
      "Choice of the player is: scissors\n",
      "The human wins this round!\n",
      "Player 2 Compu 1\n",
      "Rock, paper, scissors, lizard or spock?lizard\n",
      "Choice of the computer is: paper\n",
      "Choice of the player is: lizard\n",
      "The human wins this round!\n",
      "Player 3 Compu 1\n",
      "Rock, paper, scissors, lizard or spock?spock\n",
      "Choice of the computer is: lizard\n",
      "Choice of the player is: spock\n",
      "The computer wins this round!\n",
      "Player 3 Compu 2\n",
      "Player wins!\n"
     ]
    }
   ],
   "source": [
    "import random\n",
    "\n",
    "gestures=['rock', 'paper', 'scissors', 'lizard', 'spock']\n",
    "n_rounds=int(input('Number of rounds?'))\n",
    "rounds_to_win=int(n_rounds/2)+1\n",
    "\n",
    "print(\"Rounds to win:\", rounds_to_win)\n",
    "\n",
    "def gesture_random_2():\n",
    "    return random.choice(gestures)\n",
    "\n",
    "def gesture_player_2():\n",
    "    player=input(\"Rock, paper, scissors, lizard or spock?\")\n",
    "    while player not in gestures:\n",
    "        player=input(\"I beg your pardon, but this is a different game. I asked 'rock, paper, scissors, lizard or spock?'\")\n",
    "    return player\n",
    "\n",
    "def who_wins_2(machine, human):\n",
    "    if machine==human:\n",
    "        return 0\n",
    "#(machine!=human)&\n",
    "    elif (machine=='rock'):\n",
    "        if (human=='scissors')|(human=='lizard'):\n",
    "            return 1\n",
    "        else:\n",
    "            return 2\n",
    "    elif (machine=='paper'):\n",
    "        if (human=='rock')|(human=='spock'):\n",
    "            return 1\n",
    "        else:\n",
    "            return 2\n",
    "    elif (machine=='scissors'):\n",
    "        if (human=='paper')|(human=='lizard'):\n",
    "            return 1\n",
    "        else:\n",
    "            return 2\n",
    "    elif (machine=='lizard'):\n",
    "        if (human=='spock')|(human=='paper'):\n",
    "            return 1\n",
    "        else:\n",
    "            return 2\n",
    "    elif (machine=='spock'):\n",
    "        if (human=='rock')|(human=='scissors'):\n",
    "            return 1\n",
    "        else:\n",
    "            return 2\n",
    "\n",
    "def round_status_2(machine, human, cpu_score, player_score):\n",
    "    print(\"Choice of the computer is:\", machine)\n",
    "    print(\"Choice of the player is:\", human)\n",
    "    if who_wins_2(machine, human)==2:\n",
    "        player_score+=1\n",
    "        print(\"The human wins this round!\")\n",
    "    elif who_wins_2(machine, human)==1:\n",
    "        cpu_score+=1\n",
    "        print(\"The computer wins this round!\")\n",
    "    else:\n",
    "        print(\"This round is a tie!\")\n",
    "    return cpu_score, player_score\n",
    "\n",
    "cpu_score=0\n",
    "player_score=0\n",
    "round_num=0\n",
    "human=gesture_player_2()\n",
    "machine=gesture_random_2()\n",
    "\n",
    "#round_num>n_rounds\n",
    "#(player_score<rounds_to_win)&(cpu_score<rounds_to_win)\n",
    "\n",
    "while round_num<n_rounds:\n",
    "    human=gesture_player_2()\n",
    "    machine=gesture_random_2()\n",
    "    cpu_score, player_score = round_status_2(machine, human, cpu_score, player_score)\n",
    "    print(\"Player\", player_score, \"Compu\", cpu_score)\n",
    "    round_num+=1\n",
    "    \n",
    "if cpu_score>player_score:\n",
    "    print(\"Game over, Computer wins!\")\n",
    "elif cpu_score<player_score:\n",
    "    print(\"Player wins!\")\n",
    "else:\n",
    "    print(\"It's a draw!\")"
   ]
  },
  {
   "cell_type": "code",
   "execution_count": null,
   "metadata": {},
   "outputs": [],
   "source": []
  }
 ],
 "metadata": {
  "kernelspec": {
   "display_name": "Python 3",
   "language": "python",
   "name": "python3"
  },
  "language_info": {
   "codemirror_mode": {
    "name": "ipython",
    "version": 3
   },
   "file_extension": ".py",
   "mimetype": "text/x-python",
   "name": "python",
   "nbconvert_exporter": "python",
   "pygments_lexer": "ipython3",
   "version": "3.8.8"
  }
 },
 "nbformat": 4,
 "nbformat_minor": 2
}
